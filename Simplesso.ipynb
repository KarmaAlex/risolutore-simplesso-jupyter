{
 "cells": [
  {
   "cell_type": "code",
   "execution_count": null,
   "id": "02c837e4",
   "metadata": {
    "scrolled": true
   },
   "outputs": [],
   "source": [
    "import ipywidgets as widgets\n",
    "from IPython.display import Latex\n",
    "\n",
    "def addConstraint(b):\n",
    "    st.append(widgets.Text(placeholder=\"Vincolo {}\".format(len(st)+1)))\n",
    "    with output:\n",
    "        display(st[-1])\n",
    "\n",
    "of:widgets.Text = widgets.Text(placeholder=\"Funzione obiettivo\",description=\"min\")\n",
    "output:widgets.Output = widgets.Output()\n",
    "st:list[widgets.Text] = []\n",
    "addSt:widgets.Button = widgets.Button(description=\"Aggiungi vincolo\")\n",
    "addSt.on_click(addConstraint)\n",
    "display(widgets.Label(value=\"Inserisci funzione obiettivo in forma di minimo e vincoli, si assumono tutte le variabili positive\"))\n",
    "display(widgets.Label(value=\"Tutte le equazioni vanno scritte secondo la notazione Latex, ad esempio:\"))\n",
    "display(Latex(\"3x_1+\\\\frac{2}{5}x_2=5 diventa $3x_1+\\\\frac{2}{5}x_2=5$\"))\n",
    "display(widgets.Label(value=\"Tutte le variabili si devono chiamare x_n con n numero intero\"))\n",
    "display(of)\n",
    "display(widgets.Label(value=\"Premi per inserire un nuovo vincolo, si accettano solo problemi in forma standard\"))\n",
    "display(addSt, output)\n",
    "\n",
    "of.value = \"-2x_1-5x_2-x_3\"\n",
    "st.append(widgets.Text(value=\"x_1+3x_2+x_4=4\"))\n",
    "st.append(widgets.Text(value=\"5x_2+x_3+x_5=5\"))\n",
    "st.append(widgets.Text(value=\"2x_1+4x_2+x_3+x_6=6\"))"
   ]
  },
  {
   "cell_type": "markdown",
   "id": "112b42ee",
   "metadata": {},
   "source": [
    "La cella di sotto è per controllare se l'input è corretto"
   ]
  },
  {
   "cell_type": "code",
   "execution_count": null,
   "id": "7bcca586",
   "metadata": {},
   "outputs": [],
   "source": [
    "print_value:str = \"$\\\\min\" + of.value + \"$<br>s.t.<br>\"\n",
    "for i in st:\n",
    "    print_value +=\"$\"+ i.value + \"$<br>\"\n",
    "display(Latex(print_value))"
   ]
  },
  {
   "cell_type": "markdown",
   "id": "a4372ce3",
   "metadata": {},
   "source": [
    "Questa cella risolve il problema"
   ]
  },
  {
   "cell_type": "code",
   "execution_count": null,
   "id": "35098102",
   "metadata": {},
   "outputs": [],
   "source": [
    "from helper_functions import parse_variables_of, parse_variables_st, build_tableau, solve, output_tableau\n",
    "%run \"helper_functions.py\" #TODO: Remove when done testing\n",
    "\n",
    "eqs:list[str] = []\n",
    "\n",
    "for i in st:\n",
    "    if '\\\\geq' in i.value or '\\\\leq' in i.value:\n",
    "        raise Exception(\"Problema non in forma standard\")\n",
    "    else: eqs.append(i.value)\n",
    "\n",
    "first_row:list[str] = []\n",
    "other_rows:list[list[str]] = []\n",
    "first_row = parse_variables_of(of.value)\n",
    "other_rows = parse_variables_st(eqs)\n",
    "\n",
    "tableau:list[list[str]] = build_tableau(first_row, other_rows)\n",
    "\n",
    "newout = widgets.Output()\n",
    "\n",
    "display(Latex(output_tableau(tableau)))\n",
    "base:list[tuple[int, int]]\n",
    "tableau, base = solve(tableau)\n",
    "display(Latex(output_tableau(tableau)))\n",
    "print(base)"
   ]
  }
 ],
 "metadata": {
  "kernelspec": {
   "display_name": ".venv",
   "language": "python",
   "name": "python3"
  },
  "language_info": {
   "codemirror_mode": {
    "name": "ipython",
    "version": 3
   },
   "file_extension": ".py",
   "mimetype": "text/x-python",
   "name": "python",
   "nbconvert_exporter": "python",
   "pygments_lexer": "ipython3",
   "version": "3.13.3"
  }
 },
 "nbformat": 4,
 "nbformat_minor": 5
}
