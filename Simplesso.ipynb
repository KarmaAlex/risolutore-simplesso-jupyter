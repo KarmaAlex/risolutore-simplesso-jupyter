{
 "cells": [
  {
   "cell_type": "code",
   "execution_count": null,
   "id": "02c837e4",
   "metadata": {
    "scrolled": true
   },
   "outputs": [],
   "source": [
    "import ipywidgets as widgets\n",
    "from IPython.display import Latex\n",
    "import re\n",
    "\n",
    "def addConstraint(b):\n",
    "    st.append(widgets.Text(placeholder=\"Vincolo {}\".format(len(st)+1)))\n",
    "    with output:\n",
    "        display(st[-1])\n",
    "\n",
    "of:widgets.Text = widgets.Text(placeholder=\"Funzione obiettivo\",description=\"min\")\n",
    "output:widgets.Output = widgets.Output()\n",
    "st:list[widgets.Text] = []\n",
    "addSt:widgets.Button = widgets.Button(description=\"Aggiungi vincolo\")\n",
    "addSt.on_click(addConstraint)\n",
    "display(widgets.Label(value=\"Inserisci funzione obiettivo in forma di minimo e vincoli, si assumono tutte le variabili positive\"))\n",
    "display(widgets.Label(value=\"Tutte le equazioni vanno scritte secondo la notazione Latex, ad esempio:\"))\n",
    "display(Latex(\"3x_1+\\\\frac{2}{5}x_2=5 diventa $3x_1+\\\\frac{2}{5}x_2=5$\"))\n",
    "display(widgets.Label(value=\"Tutte le variabili si devono chiamare x_n con n numero intero\"))\n",
    "display(of)\n",
    "display(widgets.Label(value=\"Premi per inserire un nuovo vincolo, si accettano solo problemi in forma standard\"))\n",
    "display(addSt, output)"
   ]
  },
  {
   "cell_type": "markdown",
   "id": "112b42ee",
   "metadata": {},
   "source": [
    "La cella di sotto è per controllare se l'input è corretto"
   ]
  },
  {
   "cell_type": "code",
   "execution_count": null,
   "id": "7bcca586",
   "metadata": {},
   "outputs": [],
   "source": [
    "output:str = \"$\\\\min\" + of.value + \"$<br>s.t.<br>\"\n",
    "for i in st:\n",
    "    output +=\"$\"+ i.value + \"$<br>\"\n",
    "display(Latex(output))"
   ]
  },
  {
   "cell_type": "markdown",
   "id": "2d90fef6",
   "metadata": {},
   "source": [
    "Eseguire questa cella almeno una volta prima di quella sotto"
   ]
  },
  {
   "cell_type": "code",
   "execution_count": null,
   "id": "37f22f40",
   "metadata": {},
   "outputs": [],
   "source": [
    "var_pattern:str = re.compile(\"(?:[+]?(-?[^x]*)x_([^-+=]*))\")\n",
    "def parse_variables_of(f:str):\n",
    "    variables:list[tuple[int,str]] = []\n",
    "\n",
    "    find:re.Match = var_pattern.search(f)\n",
    "    while (find is not None):\n",
    "        variables.append((int(find.groups(0)[1]), find.groups(0)[0]))\n",
    "        find = var_pattern.search(f, pos=find.end())\n",
    "\n",
    "    max:int = 0\n",
    "    for i in variables: \n",
    "        if i[0] > max: max = i[0]\n",
    "    out:list[str] = [None] * max\n",
    "    for i in variables:\n",
    "        out[i[0]-1] = i[1]\n",
    "    for i in range(len(out)):\n",
    "        if out[i] is None: out[i] = 0\n",
    "    return out\n",
    "\n",
    "def parse_variables_st(s:list[widgets.Text]):\n",
    "    variables:list[list[tuple[int,str]]] = []\n",
    "    kv_pattern = re.compile(\".*=(?P<kv>.*?)$\")\n",
    "\n",
    "    for i in s:\n",
    "        temp:list[tuple[int, str]] = []\n",
    "        find:re.Match = var_pattern.search(i.value)\n",
    "        while (find is not None):\n",
    "            t:str = find.groups(0)[0]\n",
    "            if t=='': t = 1\n",
    "            elif t=='-': t =\"-1\"\n",
    "            temp.append((int(find.groups(0)[1]), t))\n",
    "            find = var_pattern.search(i.value, pos=find.end())\n",
    "        variables.append(temp)\n",
    "    \n",
    "    max:int = 0\n",
    "    for i in variables:\n",
    "        for j in i:\n",
    "            if j[0] > max: max = j[0]\n",
    "    out:list[list[str]] = [[None for _ in range(max+1)] for _ in range(len(s))]\n",
    "    for i in range(len(out)): out[i][max] = int(kv_pattern.match(s[i].value).group(\"kv\"))\n",
    "    for i in range(len(variables)):\n",
    "        for j in range(len(variables[i])):\n",
    "            out[i][variables[i][j][0]-1] = variables[i][j][1]\n",
    "    for i in range(len(out)):\n",
    "        for j in range(len(out[i])):\n",
    "            if out[i][j] is None: out[i][j] = 0\n",
    "    return out\n",
    "\n",
    "def output_tableau(t:list[list[str]]):\n",
    "    out:str = \"<table>\"\n",
    "    for i in t:\n",
    "        out += \"<tr>\"\n",
    "        for j in i:\n",
    "            out += \"<td>\\n\\n$\" + repr(j).replace(\"'\",'').replace(\"\\\\\\\\\",'\\\\') + \"$\\n</td>\\n\"\n",
    "        out += \"</tr>\"\n",
    "    out += \"</table>\"\n",
    "    display(Latex(out))"
   ]
  },
  {
   "cell_type": "markdown",
   "id": "a4372ce3",
   "metadata": {},
   "source": [
    "Questa cella risolve il problema"
   ]
  },
  {
   "cell_type": "code",
   "execution_count": null,
   "id": "35098102",
   "metadata": {},
   "outputs": [],
   "source": [
    "for i in st:\n",
    "    if '\\\\geq' in i.value:\n",
    "        raise Exception(\"Problema non in forma standard\")\n",
    "\n",
    "first_row:list[str] = []\n",
    "other_rows:list[list[str]] = []\n",
    "first_row = parse_variables_of(of.value)\n",
    "other_rows = parse_variables_st(st)\n",
    "\n",
    "lf:int = len(first_row)\n",
    "lo:int = len(other_rows[0]) - 1\n",
    "if lf > lo:\n",
    "    first_row.append(0)\n",
    "    for i in range(len(other_rows)):\n",
    "        for _ in range(lo, lf):\n",
    "            other_rows[i].append(0)\n",
    "        other_rows[i][-1] = other_rows[i][lo]\n",
    "        other_rows[i][lo] = 0\n",
    "else:\n",
    "    for _ in range(lf, lo+1): first_row.append(0)\n",
    "\n",
    "tableau:list[list[str]] = []\n",
    "tableau.append(first_row)\n",
    "for row in other_rows: tableau.append(row)\n",
    "\n",
    "output_tableau(tableau)"
   ]
  }
 ],
 "metadata": {
  "kernelspec": {
   "display_name": ".venv",
   "language": "python",
   "name": "python3"
  },
  "language_info": {
   "codemirror_mode": {
    "name": "ipython",
    "version": 3
   },
   "file_extension": ".py",
   "mimetype": "text/x-python",
   "name": "python",
   "nbconvert_exporter": "python",
   "pygments_lexer": "ipython3",
   "version": "3.13.3"
  }
 },
 "nbformat": 4,
 "nbformat_minor": 5
}
