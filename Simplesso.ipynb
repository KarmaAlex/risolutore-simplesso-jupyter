{
 "cells": [
  {
   "cell_type": "code",
   "execution_count": null,
   "id": "02c837e4",
   "metadata": {
    "scrolled": true
   },
   "outputs": [
    {
     "data": {
      "application/vnd.jupyter.widget-view+json": {
       "model_id": "b0e0e26e9d6c4dd2ae23f6d028b9662b",
       "version_major": 2,
       "version_minor": 0
      },
      "text/plain": [
       "Label(value='Inserisci funzione obiettivo in forma di minimo e vincoli, si assumono tutte le variabili positiv…"
      ]
     },
     "metadata": {},
     "output_type": "display_data"
    },
    {
     "data": {
      "application/vnd.jupyter.widget-view+json": {
       "model_id": "5a88dfe1d9cd45d8a1a6e8b5de39dba2",
       "version_major": 2,
       "version_minor": 0
      },
      "text/plain": [
       "Label(value='Tutte le equazioni vanno scritte secondo la notazione Latex, ad esempio:')"
      ]
     },
     "metadata": {},
     "output_type": "display_data"
    },
    {
     "data": {
      "text/latex": [
       "3x_1+\\frac{2}{5}x_2=5 diventa $3x_1+\\frac{2}{5}x_2=5$"
      ],
      "text/plain": [
       "<IPython.core.display.Latex object>"
      ]
     },
     "metadata": {},
     "output_type": "display_data"
    },
    {
     "data": {
      "application/vnd.jupyter.widget-view+json": {
       "model_id": "fcb2409012704672a7c3647156a1f428",
       "version_major": 2,
       "version_minor": 0
      },
      "text/plain": [
       "Label(value='Tutte le variabili si devono chiamare x_n con n numero intero')"
      ]
     },
     "metadata": {},
     "output_type": "display_data"
    },
    {
     "data": {
      "application/vnd.jupyter.widget-view+json": {
       "model_id": "a500f52afb3e4366b163da5dd97c8b95",
       "version_major": 2,
       "version_minor": 0
      },
      "text/plain": [
       "Text(value='', description='min', placeholder='Funzione obiettivo')"
      ]
     },
     "metadata": {},
     "output_type": "display_data"
    },
    {
     "data": {
      "application/vnd.jupyter.widget-view+json": {
       "model_id": "b44313bf48624582a31f4b6054c0067f",
       "version_major": 2,
       "version_minor": 0
      },
      "text/plain": [
       "Label(value='Premi per inserire un nuovo vincolo, si accettano solo problemi in forma standard')"
      ]
     },
     "metadata": {},
     "output_type": "display_data"
    },
    {
     "data": {
      "application/vnd.jupyter.widget-view+json": {
       "model_id": "deedfa941ad34398874706f9be791dac",
       "version_major": 2,
       "version_minor": 0
      },
      "text/plain": [
       "Button(description='Aggiungi vincolo', style=ButtonStyle())"
      ]
     },
     "metadata": {},
     "output_type": "display_data"
    },
    {
     "data": {
      "application/vnd.jupyter.widget-view+json": {
       "model_id": "c4a74e16de884f6991630c9592d0ca64",
       "version_major": 2,
       "version_minor": 0
      },
      "text/plain": [
       "Output()"
      ]
     },
     "metadata": {},
     "output_type": "display_data"
    }
   ],
   "source": [
    "import ipywidgets as widgets\n",
    "from IPython.display import Latex\n",
    "import re\n",
    "from typing import Optional\n",
    "\n",
    "def addConstraint(b):\n",
    "    st.append(widgets.Text(placeholder=\"Vincolo {}\".format(len(st)+1)))\n",
    "    with output:\n",
    "        display(st[-1])\n",
    "\n",
    "of:widgets.Text = widgets.Text(placeholder=\"Funzione obiettivo\",description=\"min\")\n",
    "output:widgets.Output = widgets.Output()\n",
    "st:list[widgets.Text] = []\n",
    "addSt:widgets.Button = widgets.Button(description=\"Aggiungi vincolo\")\n",
    "addSt.on_click(addConstraint)\n",
    "display(widgets.Label(value=\"Inserisci funzione obiettivo in forma di minimo e vincoli, si assumono tutte le variabili positive\"))\n",
    "display(widgets.Label(value=\"Tutte le equazioni vanno scritte secondo la notazione Latex, ad esempio:\"))\n",
    "display(Latex(\"3x_1+\\\\frac{2}{5}x_2=5 diventa $3x_1+\\\\frac{2}{5}x_2=5$\"))\n",
    "display(widgets.Label(value=\"Tutte le variabili si devono chiamare x_n con n numero intero\"))\n",
    "display(of)\n",
    "display(widgets.Label(value=\"Premi per inserire un nuovo vincolo, si accettano solo problemi in forma standard\"))\n",
    "display(addSt, output)"
   ]
  },
  {
   "cell_type": "markdown",
   "id": "112b42ee",
   "metadata": {},
   "source": [
    "La cella di sotto è per controllare se l'input è corretto"
   ]
  },
  {
   "cell_type": "code",
   "execution_count": null,
   "id": "7bcca586",
   "metadata": {},
   "outputs": [],
   "source": [
    "output:str = \"$\\\\min\" + of.value + \"$<br>s.t.<br>\"\n",
    "for i in st:\n",
    "    output +=\"$\"+ i.value + \"$<br>\"\n",
    "display(Latex(output))"
   ]
  },
  {
   "cell_type": "markdown",
   "id": "2d90fef6",
   "metadata": {},
   "source": [
    "Eseguire questa cella almeno una volta prima di quella sotto"
   ]
  },
  {
   "cell_type": "code",
   "execution_count": 48,
   "id": "37f22f40",
   "metadata": {},
   "outputs": [],
   "source": [
    "var_pattern:re.Pattern = re.compile(\"(?:[+]?(-?[^x]*)x_([^-+=]*))\")\n",
    "def parse_variables_of(f:str):\n",
    "    variables:list[tuple[int,str | int]] = []\n",
    "\n",
    "    find:Optional[re.Match[str]] = var_pattern.search(f)\n",
    "    while (find is not None):\n",
    "        variables.append((int(find.groups(0)[1]), find.groups(0)[0]))\n",
    "        find = var_pattern.search(f, pos=find.end())\n",
    "\n",
    "    max:int = 0\n",
    "    for i in variables: \n",
    "        if i[0] > max: max = i[0]\n",
    "    out:list[str] = [''] * max\n",
    "    for i in variables:\n",
    "        out[i[0]-1] = str(i[1])\n",
    "    for i in range(len(out)):\n",
    "        if out[i] is None: out[i] = \"0\"\n",
    "    return out\n",
    "\n",
    "def parse_variables_st(s:list[widgets.Text]):\n",
    "    variables:list[list[tuple[int,str]]] = []\n",
    "    kv_pattern:re.Pattern = re.compile(\".*=(?P<kv>.*?)$\")\n",
    "\n",
    "    for i in s:\n",
    "        temp:list[tuple[int, str]] = []\n",
    "        find:Optional[re.Match[str]] = var_pattern.search(i.value)\n",
    "        while (find is not None):\n",
    "            t:str = str(find.groups(0)[0])\n",
    "            if t=='': t = \"1\"\n",
    "            elif t=='-': t =\"-1\"\n",
    "            temp.append((int(find.groups(0)[1]), t))\n",
    "            find = var_pattern.search(i.value, pos=find.end())\n",
    "        variables.append(temp)\n",
    "    \n",
    "    max:int = 0\n",
    "    for i in variables:\n",
    "        for j in i:\n",
    "            if j[0] > max: max = j[0]\n",
    "    out:list[list[str]] = [['' for _ in range(max+1)] for _ in range(len(s))]\n",
    "    for i in range(len(out)):\n",
    "        t2:re.Match[str] | None = kv_pattern.match(s[i].value)\n",
    "        if (t2 is not None): out[i][max] = t2.group(\"kv\")\n",
    "    for i in range(len(variables)):\n",
    "        for j in range(len(variables[i])):\n",
    "            out[i][variables[i][j][0]-1] = variables[i][j][1]\n",
    "    for i in range(len(out)):\n",
    "        for j in range(len(out[i])):\n",
    "            if out[i][j] == '': out[i][j] = \"0\"\n",
    "    return out\n",
    "\n",
    "def output_tableau(t:list[list[str]]):\n",
    "    out:str = \"<table>\"\n",
    "    for i in t:\n",
    "        out += \"<tr>\"\n",
    "        for j in i:\n",
    "            out += \"<td>\\n\\n$\" + j.replace(\"'\",'').replace(\"\\\\\\\\\",'\\\\') + \"$\\n</td>\\n\"\n",
    "        out += \"</tr>\"\n",
    "    out += \"</table>\"\n",
    "    display(Latex(out))\n",
    "\n",
    "def find_id(t:list[list[str]]):\n",
    "    cols:list[tuple[int, int]] = []\n",
    "    for i in range(len(t[0])-1):\n",
    "        if t[0][i] == \"0\":\n",
    "            j:int = 1\n",
    "            id_col:bool = True\n",
    "            loc_one:tuple[int, int] | None = None\n",
    "            while (j<len(t) and id_col):\n",
    "                if (not (t[j][i] == \"1\" or t[j][i] == \"0\")): \n",
    "                    id_col = False\n",
    "                    break\n",
    "                elif (t[j][i] == \"1\" and loc_one is None): loc_one = (j,i)\n",
    "                elif (t[j][i] == \"1\" and loc_one is not None): id_col = False\n",
    "                j += 1\n",
    "            if(id_col and loc_one is not None):\n",
    "                dup = False\n",
    "                for c in cols:\n",
    "                    if c[0] == loc_one[0]: \n",
    "                        dup = True\n",
    "                        break\n",
    "                if not dup : cols.append(loc_one)\n",
    "    return cols if len(cols)==len(t)-1 else None"
   ]
  },
  {
   "cell_type": "markdown",
   "id": "a4372ce3",
   "metadata": {},
   "source": [
    "Questa cella risolve il problema"
   ]
  },
  {
   "cell_type": "code",
   "execution_count": 49,
   "id": "35098102",
   "metadata": {},
   "outputs": [
    {
     "data": {
      "text/latex": [
       "<table><tr><td>\n",
       "\n",
       "$3$\n",
       "</td>\n",
       "<td>\n",
       "\n",
       "$4$\n",
       "</td>\n",
       "<td>\n",
       "\n",
       "$-5$\n",
       "</td>\n",
       "<td>\n",
       "\n",
       "$0$\n",
       "</td>\n",
       "<td>\n",
       "\n",
       "$0$\n",
       "</td>\n",
       "<td>\n",
       "\n",
       "$0$\n",
       "</td>\n",
       "<td>\n",
       "\n",
       "$0$\n",
       "</td>\n",
       "</tr><tr><td>\n",
       "\n",
       "$0$\n",
       "</td>\n",
       "<td>\n",
       "\n",
       "$0$\n",
       "</td>\n",
       "<td>\n",
       "\n",
       "$0$\n",
       "</td>\n",
       "<td>\n",
       "\n",
       "$1$\n",
       "</td>\n",
       "<td>\n",
       "\n",
       "$0$\n",
       "</td>\n",
       "<td>\n",
       "\n",
       "$0$\n",
       "</td>\n",
       "<td>\n",
       "\n",
       "$5$\n",
       "</td>\n",
       "</tr><tr><td>\n",
       "\n",
       "$0$\n",
       "</td>\n",
       "<td>\n",
       "\n",
       "$0$\n",
       "</td>\n",
       "<td>\n",
       "\n",
       "$0$\n",
       "</td>\n",
       "<td>\n",
       "\n",
       "$0$\n",
       "</td>\n",
       "<td>\n",
       "\n",
       "$1$\n",
       "</td>\n",
       "<td>\n",
       "\n",
       "$0$\n",
       "</td>\n",
       "<td>\n",
       "\n",
       "$1$\n",
       "</td>\n",
       "</tr><tr><td>\n",
       "\n",
       "$0$\n",
       "</td>\n",
       "<td>\n",
       "\n",
       "$0$\n",
       "</td>\n",
       "<td>\n",
       "\n",
       "$0$\n",
       "</td>\n",
       "<td>\n",
       "\n",
       "$0$\n",
       "</td>\n",
       "<td>\n",
       "\n",
       "$0$\n",
       "</td>\n",
       "<td>\n",
       "\n",
       "$1$\n",
       "</td>\n",
       "<td>\n",
       "\n",
       "$9$\n",
       "</td>\n",
       "</tr></table>"
      ],
      "text/plain": [
       "<IPython.core.display.Latex object>"
      ]
     },
     "metadata": {},
     "output_type": "display_data"
    },
    {
     "name": "stdout",
     "output_type": "stream",
     "text": [
      "[(1, 3), (2, 4), (3, 5)]\n"
     ]
    }
   ],
   "source": [
    "for i in st:\n",
    "    if '\\\\geq' in i.value or '\\\\leq' in i.value:\n",
    "        raise Exception(\"Problema non in forma standard\")\n",
    "\n",
    "first_row:list[str] = []\n",
    "other_rows:list[list[str]] = []\n",
    "first_row = parse_variables_of(of.value)\n",
    "other_rows = parse_variables_st(st)\n",
    "\n",
    "lf:int = len(first_row)\n",
    "lo:int = len(other_rows[0]) - 1\n",
    "if lf > lo:\n",
    "    first_row.append(\"0\")\n",
    "    for i in range(len(other_rows)):\n",
    "        for _ in range(lo, lf):\n",
    "            other_rows[i].append(\"0\")\n",
    "        other_rows[i][-1] = other_rows[i][lo]\n",
    "        other_rows[i][lo] = \"0\"\n",
    "else:\n",
    "    for _ in range(lf, lo+1): first_row.append(\"0\")\n",
    "\n",
    "tableau:list[list[str]] = []\n",
    "tableau.append(first_row)\n",
    "row: list[str]\n",
    "for row in other_rows: tableau.append(row)\n",
    "\n",
    "output_tableau(tableau)\n",
    "print(find_id(tableau))"
   ]
  }
 ],
 "metadata": {
  "kernelspec": {
   "display_name": ".venv",
   "language": "python",
   "name": "python3"
  },
  "language_info": {
   "codemirror_mode": {
    "name": "ipython",
    "version": 3
   },
   "file_extension": ".py",
   "mimetype": "text/x-python",
   "name": "python",
   "nbconvert_exporter": "python",
   "pygments_lexer": "ipython3",
   "version": "3.13.3"
  }
 },
 "nbformat": 4,
 "nbformat_minor": 5
}
